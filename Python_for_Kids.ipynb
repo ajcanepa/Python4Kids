{
  "nbformat": 4,
  "nbformat_minor": 0,
  "metadata": {
    "colab": {
      "provenance": [],
      "authorship_tag": "ABX9TyOYttHxyCBorPq/5psehBK9",
      "include_colab_link": true
    },
    "kernelspec": {
      "name": "python3",
      "display_name": "Python 3"
    },
    "language_info": {
      "name": "python"
    }
  },
  "cells": [
    {
      "cell_type": "markdown",
      "metadata": {
        "id": "view-in-github",
        "colab_type": "text"
      },
      "source": [
        "<a href=\"https://colab.research.google.com/github/ajcanepa/Python4Kids/blob/main/Python_for_Kids.ipynb\" target=\"_parent\"><img src=\"https://colab.research.google.com/assets/colab-badge.svg\" alt=\"Open In Colab\"/></a>"
      ]
    },
    {
      "cell_type": "markdown",
      "source": [
        "# Este es el tutorial de Python for Kids"
      ],
      "metadata": {
        "id": "c53ZmWY0vt8m"
      }
    },
    {
      "cell_type": "markdown",
      "source": [
        "A computer program is a set of instructions that causes a computer to perform some kind of action.\n",
        "\n",
        "A program­ming language is simply a particular way to talk to a computer—a way to use instructions that both humans and the computer can ­understand."
      ],
      "metadata": {
        "id": "zL_q3YWPwKmD"
      }
    },
    {
      "cell_type": "code",
      "execution_count": 2,
      "metadata": {
        "colab": {
          "base_uri": "https://localhost:8080/",
          "height": 35
        },
        "id": "rQqtX-jGu4cz",
        "outputId": "e1967197-a9eb-4f9e-aea7-3cb49589ebe3"
      },
      "outputs": [
        {
          "output_type": "execute_result",
          "data": {
            "text/plain": [
              "'3.7.15 (default, Oct 12 2022, 19:14:55) \\n[GCC 7.5.0]'"
            ],
            "application/vnd.google.colaboratory.intrinsic+json": {
              "type": "string"
            }
          },
          "metadata": {},
          "execution_count": 2
        }
      ],
      "source": [
        "# Comprobando la versión de Python \n",
        "import sys\n",
        "sys.version"
      ]
    },
    {
      "cell_type": "code",
      "source": [
        "print(\"hello world\")"
      ],
      "metadata": {
        "colab": {
          "base_uri": "https://localhost:8080/",
          "height": 0
        },
        "id": "RVTZ4ODFv7Kt",
        "outputId": "6cbcfb65-2535-453e-9fb7-11a9766fb428"
      },
      "execution_count": 3,
      "outputs": [
        {
          "output_type": "stream",
          "name": "stdout",
          "text": [
            "hello world\n"
          ]
        }
      ]
    },
    {
      "cell_type": "code",
      "source": [
        "print(\"papa es tonto\")"
      ],
      "metadata": {
        "colab": {
          "base_uri": "https://localhost:8080/",
          "height": 0
        },
        "id": "w79AO6bsyp5h",
        "outputId": "b329f0f6-42a8-42eb-9e67-433caa8faeb2"
      },
      "execution_count": 4,
      "outputs": [
        {
          "output_type": "stream",
          "name": "stdout",
          "text": [
            "papa es tonto\n"
          ]
        }
      ]
    },
    {
      "cell_type": "code",
      "source": [
        "print(\"...y aún así le enseña a su hijo.... \\n cómo será su hijo! XD\")"
      ],
      "metadata": {
        "colab": {
          "base_uri": "https://localhost:8080/",
          "height": 0
        },
        "id": "b0m7jcF6y1KV",
        "outputId": "744a6233-3f63-4a13-a8aa-4375cd2b255d"
      },
      "execution_count": 5,
      "outputs": [
        {
          "output_type": "stream",
          "name": "stdout",
          "text": [
            "...y aún así le enseña a su hijo.... \n",
            " cómo será su hijo! XD\n"
          ]
        }
      ]
    },
    {
      "cell_type": "code",
      "source": [
        "print(\"como pepinillos \\n estan muy ricos\")"
      ],
      "metadata": {
        "colab": {
          "base_uri": "https://localhost:8080/",
          "height": 0
        },
        "id": "1q4AqHaBzCep",
        "outputId": "2da20216-c098-40b0-c5d8-87609286f556"
      },
      "execution_count": 7,
      "outputs": [
        {
          "output_type": "stream",
          "name": "stdout",
          "text": [
            "como pepinillos \n",
            " estan muy ricos\n"
          ]
        }
      ]
    },
    {
      "cell_type": "code",
      "source": [
        "print(\"my papa es much listo \\n y su hijo tambien\")"
      ],
      "metadata": {
        "colab": {
          "base_uri": "https://localhost:8080/",
          "height": 0
        },
        "id": "zHmhvL_4zk3I",
        "outputId": "71e03c61-6a6d-4740-b431-a7c99fb0ccdc"
      },
      "execution_count": 8,
      "outputs": [
        {
          "output_type": "stream",
          "name": "stdout",
          "text": [
            "my papa es much listo \n",
            " y su hijo tambien\n"
          ]
        }
      ]
    },
    {
      "cell_type": "markdown",
      "source": [
        "## Calculating with Python\n",
        "Con **Python** podemos hacer calculos como si de una *calculadora se tratase*. ❤"
      ],
      "metadata": {
        "id": "8eTpfJdF0PAz"
      }
    },
    {
      "cell_type": "code",
      "source": [
        "8*3.57"
      ],
      "metadata": {
        "colab": {
          "base_uri": "https://localhost:8080/"
        },
        "id": "dFEFzd851WT4",
        "outputId": "147ff75d-bc39-422a-bc1c-42717ad42071"
      },
      "execution_count": 11,
      "outputs": [
        {
          "output_type": "execute_result",
          "data": {
            "text/plain": [
              "28.56"
            ]
          },
          "metadata": {},
          "execution_count": 11
        }
      ]
    },
    {
      "cell_type": "code",
      "source": [
        "print(\"TE QUIERO PAPI \\n much much listo nosotro ser\")"
      ],
      "metadata": {
        "colab": {
          "base_uri": "https://localhost:8080/"
        },
        "id": "vI722Qc41z26",
        "outputId": "17be71ae-1b7c-4baa-f61b-f0345a3d7385"
      },
      "execution_count": 12,
      "outputs": [
        {
          "output_type": "stream",
          "name": "stdout",
          "text": [
            "TE QUIERO PAPI \n",
            " much much listo nosotro ser\n"
          ]
        }
      ]
    }
  ]
}